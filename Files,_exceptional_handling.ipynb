{
  "nbformat": 4,
  "nbformat_minor": 0,
  "metadata": {
    "colab": {
      "provenance": []
    },
    "kernelspec": {
      "name": "python3",
      "display_name": "Python 3"
    },
    "language_info": {
      "name": "python"
    }
  },
  "cells": [
    {
      "cell_type": "markdown",
      "source": [
        "# **Practical Questions**"
      ],
      "metadata": {
        "id": "jNvNSyHu_YCJ"
      }
    },
    {
      "cell_type": "code",
      "execution_count": 1,
      "metadata": {
        "id": "ggGZP81Q_MXj"
      },
      "outputs": [],
      "source": [
        "# 1. How can you open a file for writing in Python and write a string to it?\n",
        "# Answers: To open a file for writing in Python and write a string to it, you can use the built-in open() function along with the write()\n",
        "\n",
        "# Open the file in write mode ('w')\n",
        "with open(\"example.txt\", \"w\") as file:\n",
        "    # Write a string to the file\n",
        "    file.write(\"Hello, world!\")\n",
        "\n"
      ]
    },
    {
      "cell_type": "code",
      "source": [
        "# 2. Write a Python program to read the contents of a file and print each line?\n",
        "# Answers:\n",
        "\n",
        "# Open the file in read mode ('r')\n",
        "with open(\"example.txt\", \"r\") as file:\n",
        "    # Loop through each line in the file\n",
        "    for line in file:\n",
        "        # Print the line (line already includes a newline character)\n",
        "        print(line, end=\"\")\n"
      ],
      "metadata": {
        "id": "YCsjg-jM_zqN"
      },
      "execution_count": null,
      "outputs": []
    },
    {
      "cell_type": "code",
      "source": [
        "# 3. How would you handle a case where the file doesn't exist while trying to open it for reading?\n",
        "# Answers:\n",
        "\n",
        "filename = \"example.txt\"\n",
        "\n",
        "try:\n",
        "    with open(filename, \"r\") as file:\n",
        "        for line in file:\n",
        "            print(line, end=\"\")\n",
        "except FileNotFoundError:\n",
        "    print(f\"Error: The file '{filename}' does not exist.\")\n"
      ],
      "metadata": {
        "id": "DPZDKXkSAJA9"
      },
      "execution_count": null,
      "outputs": []
    },
    {
      "cell_type": "code",
      "source": [
        "# 4. Write a Python script that reads from one file and writes its content to another file?\n",
        "\n",
        "# Answers:\n",
        "\n",
        "source_file = \"source.txt\"\n",
        "destination_file = \"destination.txt\"\n",
        "\n",
        "try:\n",
        "    # Open the source file in read mode\n",
        "    with open(source_file, \"r\") as src:\n",
        "        # Open the destination file in write mode\n",
        "        with open(destination_file, \"w\") as dest:\n",
        "            # Read from source and write to destination\n",
        "            for line in src:\n",
        "                dest.write(line)\n",
        "    print(f\"Contents copied from '{source_file}' to '{destination_file}'.\")\n",
        "except FileNotFoundError:\n",
        "    print(f\"Error: The file '{source_file}' does not exist.\")\n"
      ],
      "metadata": {
        "id": "F5hCCU11AJ08"
      },
      "execution_count": null,
      "outputs": []
    },
    {
      "cell_type": "code",
      "source": [
        "# 5. How would you catch and handle division by zero error in Python?\n",
        "# Answers:\n",
        "try:\n",
        "    numerator = 10\n",
        "    denominator = 0\n",
        "    result = numerator / denominator\n",
        "    print(\"Result:\", result)\n",
        "except ZeroDivisionError:\n",
        "    print(\"Error: Cannot divide by zero.\")\n"
      ],
      "metadata": {
        "id": "IhpFjS-nAKDV"
      },
      "execution_count": null,
      "outputs": []
    },
    {
      "cell_type": "code",
      "source": [
        "# 6.Write a Python program that logs an error message to a log file when a division by zero exception occurs?\n",
        "# Answers:\n",
        "\n",
        "import logging\n",
        "\n",
        "# Configure logging to write to a file\n",
        "logging.basicConfig(\n",
        "    filename='error_log.txt',\n",
        "    level=logging.ERROR,\n",
        "    format='%(asctime)s - %(levelname)s - %(message)s'\n",
        ")\n",
        "\n",
        "def divide(a, b):\n",
        "    try:\n",
        "        return a / b\n",
        "    except ZeroDivisionError:\n",
        "        logging.error(\"Attempted to divide by zero: %s / %s\", a, b)\n",
        "        print(\"Error: Cannot divide by zero.\")\n",
        "\n",
        "# Example usage\n",
        "result = divide(10, 0)\n"
      ],
      "metadata": {
        "id": "so4Wq7EeAKRW"
      },
      "execution_count": null,
      "outputs": []
    },
    {
      "cell_type": "code",
      "source": [
        "# 7. How do you log information at different levels (INFO, ERROR, WARNING) in Python using the logging module?\n",
        "# Answers:\n",
        "import logging\n",
        "\n",
        "# Configure logging\n",
        "logging.basicConfig(\n",
        "    filename='app.log',\n",
        "    level=logging.DEBUG,  # Set the lowest level to capture all logs\n",
        "    format='%(asctime)s - %(levelname)s - %(message)s'\n",
        ")\n",
        "\n",
        "# Log messages at different levels\n",
        "logging.debug(\"This is a DEBUG message (useful for diagnosing problems).\")\n",
        "logging.info(\"This is an INFO message (general information).\")\n",
        "logging.warning(\"This is a WARNING message (something unexpected, but not an error).\")\n",
        "logging.error(\"This is an ERROR message (something went wrong).\")\n",
        "logging.critical(\"This is a CRITICAL message (serious error, program may not recover).\")\n"
      ],
      "metadata": {
        "id": "tQyqY-8_AKj_"
      },
      "execution_count": null,
      "outputs": []
    },
    {
      "cell_type": "code",
      "source": [
        "# 8. Write a program to handle a file opening error using exception handling?\n",
        "# Answers:\n",
        "filename = \"nonexistent_file.txt\"\n",
        "\n",
        "try:\n",
        "    with open(filename, \"r\") as file:\n",
        "        contents = file.read()\n",
        "        print(contents)\n",
        "except FileNotFoundError:\n",
        "    print(f\"Error: The file '{filename}' was not found.\")\n",
        "except PermissionError:\n",
        "    print(f\"Error: You do not have permission to open '{filename}'.\")\n",
        "except Exception as e:\n",
        "    print(f\"An unexpected error occurred: {e}\")\n"
      ],
      "metadata": {
        "id": "t11rA-hUAKwn"
      },
      "execution_count": null,
      "outputs": []
    },
    {
      "cell_type": "code",
      "source": [
        "# 9. How can you read a file line by line and store its content in a list in Python?\n",
        "# Answers:\n",
        "\n",
        "filename = \"example.txt\"\n",
        "\n",
        "try:\n",
        "    with open(filename, \"r\") as file:\n",
        "        lines = file.readlines()  # Reads all lines into a list\n",
        "        # Optional: Remove newline characters\n",
        "        lines = [line.strip() for line in lines]\n",
        "\n",
        "    print(\"File contents as a list:\")\n",
        "    print(lines)\n",
        "except FileNotFoundError:\n",
        "    print(f\"Error: The file '{filename}' was not found.\")\n"
      ],
      "metadata": {
        "id": "yhzJHQwIAK2i"
      },
      "execution_count": null,
      "outputs": []
    },
    {
      "cell_type": "code",
      "source": [
        "# 10.  How can you append data to an existing file in Python?\n",
        "# Answers:\n",
        "filename = \"example.txt\"\n",
        "new_data = \"This is a new line of text.\\n\"\n",
        "\n",
        "try:\n",
        "    with open(filename, \"a\") as file:\n",
        "        file.write(new_data)\n",
        "    print(\"Data appended successfully.\")\n",
        "except Exception as e:\n",
        "    print(f\"An error occurred: {e}\")\n"
      ],
      "metadata": {
        "id": "ygEaoteWALBh"
      },
      "execution_count": null,
      "outputs": []
    },
    {
      "cell_type": "code",
      "source": [
        "# 11. Write a Python program that uses a try-except block to handle an error when attempting to access a dictionary key that doesn't exist?\n",
        "# Answers:\n",
        "\n",
        "my_dict = {\"name\": \"John\", \"age\": 30}\n",
        "\n",
        "# Key to access\n",
        "key = \"address\"\n",
        "\n",
        "try:\n",
        "    # Try to access the key in the dictionary\n",
        "    value = my_dict[key]\n",
        "    print(f\"The value for the key '{key}' is: {value}\")\n",
        "except KeyError:\n",
        "    print(f\"Error: The key '{key}' does not exist in the dictionary.\")\n"
      ],
      "metadata": {
        "id": "oenyytCHALH3"
      },
      "execution_count": null,
      "outputs": []
    },
    {
      "cell_type": "code",
      "source": [
        "# 12. Write a program that demonstrates using multiple except blocks to handle different types of exceptions?\n",
        "# ANswers:\n",
        "\n",
        "def divide_numbers(a, b):\n",
        "    try:\n",
        "        result = a / b\n",
        "        print(f\"Result: {result}\")\n",
        "    except ZeroDivisionError:\n",
        "        print(\"Error: Cannot divide by zero.\")\n",
        "    except TypeError:\n",
        "        print(\"Error: Both inputs must be numbers.\")\n",
        "    except Exception as e:\n",
        "        print(f\"An unexpected error occurred: {e}\")\n",
        "\n",
        "def access_list_element(my_list, index):\n",
        "    try:\n",
        "        element = my_list[index]\n",
        "        print(f\"Element at index {index}: {element}\")\n",
        "    except IndexError:\n",
        "        print(\"Error: Index out of range.\")\n",
        "    except TypeError:\n",
        "        print(\"Error: The provided input is not a list.\")\n",
        "    except Exception as e:\n",
        "        print(f\"An unexpected error occurred: {e}\")\n",
        "\n",
        "# Testing the functions\n",
        "\n",
        "# Divide by zero (ZeroDivisionError)\n",
        "divide_numbers(10, 0)\n",
        "\n",
        "# TypeError example (invalid division)\n",
        "divide_numbers(10, \"a\")\n",
        "\n",
        "# Index out of range (IndexError)\n",
        "access_list_element([1, 2, 3], 5)\n",
        "\n",
        "# TypeError example (invalid list input)\n",
        "access_list_element(\"not a list\", 2)\n"
      ],
      "metadata": {
        "id": "vWZq_JJvALQK"
      },
      "execution_count": null,
      "outputs": []
    },
    {
      "cell_type": "code",
      "source": [
        "# 13. How would you check if a file exists before attempting to read it in Python?\n",
        "# Answers:\n",
        "# Method 1: Using os.path.exists()\n",
        "\n",
        "import os\n",
        "\n",
        "filename = \"example.txt\"\n",
        "\n",
        "if os.path.exists(filename):\n",
        "    with open(filename, \"r\") as file:\n",
        "        contents = file.read()\n",
        "        print(contents)\n",
        "else:\n",
        "    print(f\"The file '{filename}' does not exist.\")\n",
        "\n",
        "\n",
        "# Method 2: Using pathlib.Path.exists()\n",
        "\n",
        "from pathlib import Path\n",
        "\n",
        "filename = Path(\"example.txt\")\n",
        "\n",
        "if filename.exists():\n",
        "    with open(filename, \"r\") as file:\n",
        "        contents = file.read()\n",
        "        print(contents)\n",
        "else:\n",
        "    print(f\"The file '{filename}' does not exist.\")\n"
      ],
      "metadata": {
        "id": "SvGJH959ALcj"
      },
      "execution_count": null,
      "outputs": []
    },
    {
      "cell_type": "code",
      "source": [
        "# 14. Write a program that uses the logging module to log both informational and error messages?\n",
        "# Answers:\n",
        "\n",
        "import logging\n",
        "\n",
        "# Configure logging to log messages to a file\n",
        "logging.basicConfig(\n",
        "    filename='app.log',\n",
        "    level=logging.DEBUG,  # Capture all levels of logs (DEBUG and above)\n",
        "    format='%(asctime)s - %(levelname)s - %(message)s'\n",
        ")\n",
        "\n",
        "# Example of logging an informational message\n",
        "logging.info(\"This is an informational message.\")\n",
        "\n",
        "# Example of logging an error message\n",
        "try:\n",
        "    # Simulate an error (division by zero)\n",
        "    result = 10 / 0\n",
        "except ZeroDivisionError as e:\n",
        "    logging.error(\"An error occurred: %s\", e)\n",
        "\n",
        "# More log examples\n",
        "logging.warning(\"This is a warning message.\")\n",
        "logging.debug(\"This is a debug message.\")\n",
        "logging.critical(\"This is a critical message.\")\n",
        "\n",
        "print(\"Logging messages have been written to 'app.log'.\")\n"
      ],
      "metadata": {
        "id": "lG_LIm-lAL-S"
      },
      "execution_count": null,
      "outputs": []
    },
    {
      "cell_type": "code",
      "source": [
        "# 15. Write a Python program that prints the content of a file and handles the case when the file is empty?\n",
        "\n",
        "# Answers:\n",
        "\n",
        "filename = \"example.txt\"\n",
        "\n",
        "try:\n",
        "    with open(filename, \"r\") as file:\n",
        "        content = file.read()\n",
        "\n",
        "        if content:\n",
        "            print(\"File content:\")\n",
        "            print(content)\n",
        "        else:\n",
        "            print(\"The file is empty.\")\n",
        "except FileNotFoundError:\n",
        "    print(f\"Error: The file '{filename}' does not exist.\")\n",
        "except Exception as e:\n",
        "    print(f\"An unexpected error occurred: {e}\")\n"
      ],
      "metadata": {
        "id": "IklX7LTgAMrt"
      },
      "execution_count": null,
      "outputs": []
    },
    {
      "cell_type": "code",
      "source": [
        "# 16. Demonstrate how to use memory profiling to check the memory usage of a small program?\n",
        "# Answers:\n",
        "# we can use the memory_profiler module. First, you need to install memory_profiler using pip install memory-profiler.\n",
        "\n",
        "from memory_profiler import profile\n",
        "\n",
        "@profile\n",
        "def my_function():\n",
        "    a = [i for i in range(1000000)]  # Create a large list\n",
        "    b = [i * 2 for i in a]           # Create another large list\n",
        "    return b\n",
        "\n",
        "if __name__ == \"__main__\":\n",
        "    my_function()\n"
      ],
      "metadata": {
        "id": "xlKqGq6kAMxP"
      },
      "execution_count": null,
      "outputs": []
    },
    {
      "cell_type": "code",
      "source": [
        "# 17. Write a Python program to create and write a list of numbers to a file, one number per line?\n",
        "\n",
        "# Answers:\n",
        "\n",
        "# List of numbers to write\n",
        "numbers = [1, 2, 3, 4, 5, 10, 20, 50]\n",
        "\n",
        "# File to write to\n",
        "filename = \"numbers.txt\"\n",
        "\n",
        "try:\n",
        "    with open(filename, \"w\") as file:\n",
        "        for number in numbers:\n",
        "            file.write(f\"{number}\\n\")\n",
        "    print(f\"Numbers have been written to '{filename}'.\")\n",
        "except Exception as e:\n",
        "    print(f\"An error occurred: {e}\")\n"
      ],
      "metadata": {
        "id": "_92WLBxfAM2r"
      },
      "execution_count": null,
      "outputs": []
    },
    {
      "cell_type": "code",
      "source": [
        "# 18.  How would you implement a basic logging setup that logs to a file with rotation after 1MB?\n",
        "\n",
        "# Answers:\n",
        "import logging\n",
        "from logging.handlers import RotatingFileHandler\n",
        "\n",
        "# Set up a rotating file handler\n",
        "log_file = \"app.log\"\n",
        "handler = RotatingFileHandler(\n",
        "    log_file, maxBytes=1_000_000, backupCount=3\n",
        ")\n",
        "\n",
        "# Create a logging format\n",
        "formatter = logging.Formatter('%(asctime)s - %(levelname)s - %(message)s')\n",
        "handler.setFormatter(formatter)\n",
        "\n",
        "# Set up the logger\n",
        "logger = logging.getLogger(\"MyLogger\")\n",
        "logger.setLevel(logging.DEBUG)\n",
        "logger.addHandler(handler)\n",
        "\n",
        "# Example logs\n",
        "logger.info(\"This is an informational message.\")\n",
        "logger.error(\"This is an error message.\")\n",
        "logger.debug(\"This is a debug message for troubleshooting.\")\n"
      ],
      "metadata": {
        "id": "kAAg9fmsAM7y"
      },
      "execution_count": null,
      "outputs": []
    },
    {
      "cell_type": "code",
      "source": [
        "# 19.Write a program that handles both IndexError and KeyError using a try-except block?\n",
        "# Answers:\n",
        "def handle_errors():\n",
        "    my_list = [10, 20, 30]\n",
        "    my_dict = {\"name\": \"Alice\", \"age\": 25}\n",
        "\n",
        "    try:\n",
        "        # Intentionally access an out-of-range index\n",
        "        print(\"Accessing list element:\", my_list[5])\n",
        "\n",
        "        # Intentionally access a missing key in the dictionary\n",
        "        print(\"Accessing dictionary key:\", my_dict[\"address\"])\n",
        "\n",
        "    except IndexError:\n",
        "        print(\"Error: List index is out of range.\")\n",
        "\n",
        "    except KeyError:\n",
        "        print(\"Error: Dictionary key not found.\")\n",
        "\n",
        "    except Exception as e:\n",
        "        print(f\"An unexpected error occurred: {e}\")\n",
        "\n",
        "# Run the function\n",
        "handle_errors()\n"
      ],
      "metadata": {
        "id": "S1jX1C5fANA-"
      },
      "execution_count": null,
      "outputs": []
    },
    {
      "cell_type": "code",
      "source": [
        "# 20. How would you open a file and read its contents using a context manager in Python?\n",
        "# Answers:\n",
        "filename = \"example.txt\"\n",
        "\n",
        "try:\n",
        "    with open(filename, \"r\") as file:\n",
        "        contents = file.read()\n",
        "        print(\"File contents:\")\n",
        "        print(contents)\n",
        "except FileNotFoundError:\n",
        "    print(f\"Error: The file '{filename}' was not found.\")\n",
        "except Exception as e:\n",
        "    print(f\"An error occurred: {e}\")\n"
      ],
      "metadata": {
        "id": "MpO4xRirANJS"
      },
      "execution_count": null,
      "outputs": []
    },
    {
      "cell_type": "code",
      "source": [
        "#21. Write a Python program that reads a file and prints the number of occurrences of a specific word?\n",
        "# Answers:\n",
        "def count_word_occurrences(filename, word_to_count):\n",
        "    try:\n",
        "        with open(filename, 'r') as file:\n",
        "            content = file.read()\n",
        "            # Normalize case and split into words\n",
        "            words = content.lower().split()\n",
        "            count = words.count(word_to_count.lower())\n",
        "            print(f\"The word '{word_to_count}' occurs {count} times in the file.\")\n",
        "    except FileNotFoundError:\n",
        "        print(f\"Error: The file '{filename}' was not found.\")\n",
        "    except Exception as e:\n",
        "        print(f\"An error occurred: {e}\")\n",
        "\n",
        "# Example usage\n",
        "filename = \"example.txt\"\n",
        "word = \"python\"\n",
        "count_word_occurrences(filename, word)\n"
      ],
      "metadata": {
        "id": "QuRUvYp4ANPr"
      },
      "execution_count": null,
      "outputs": []
    },
    {
      "cell_type": "code",
      "source": [
        "#22. How can you check if a file is empty before attempting to read its contents?\n",
        "# Answers:\n",
        "filename = \"example.txt\"\n",
        "\n",
        "with open(filename, \"r\") as file:\n",
        "    first_char = file.read(1)\n",
        "    if not first_char:\n",
        "        print(\"The file is empty.\")\n",
        "    else:\n",
        "        file.seek(0)  # Go back to the beginning\n",
        "        content = file.read()\n",
        "        print(\"File content:\")\n",
        "        print(content)"
      ],
      "metadata": {
        "id": "gg7wYPmPANTv"
      },
      "execution_count": null,
      "outputs": []
    },
    {
      "cell_type": "code",
      "source": [
        "# 23. Write a Python program that writes to a log file when an error occurs during file handling.?\n",
        "# Answers:\n",
        "\n",
        "import logging\n",
        "\n",
        "# Configure logging to write to a log file\n",
        "logging.basicConfig(\n",
        "    filename='file_errors.log',\n",
        "    level=logging.ERROR,\n",
        "    format='%(asctime)s - %(levelname)s - %(message)s'\n",
        ")\n",
        "\n",
        "def read_file(filename):\n",
        "    try:\n",
        "        with open(filename, 'r') as file:\n",
        "            content = file.read()\n",
        "            print(\"File content:\")\n",
        "            print(content)\n",
        "    except Exception as e:\n",
        "        logging.error(f\"Error reading file '{filename}': {e}\")\n",
        "        print(f\"An error occurred. Details logged to 'file_errors.log'.\")\n",
        "\n",
        "# Example usage\n",
        "read_file(\"non_existing_file.txt\")\n"
      ],
      "metadata": {
        "id": "6N2OgatUcJ-l"
      },
      "execution_count": null,
      "outputs": []
    },
    {
      "cell_type": "markdown",
      "source": [
        "# Files, exceptional handling, logging and memory management Questions"
      ],
      "metadata": {
        "id": "wLF5-fdocaKZ"
      }
    },
    {
      "cell_type": "code",
      "source": [
        "# 1. What is the difference between interpreted and compiled languages?\n",
        "# ANswers:\n",
        "\n",
        "# The primary difference between interpreted and compiled languages lies in how their code is executed.\n",
        "# Compiled languages are translated entirely into machine code by a compiler before the program is run,\n",
        "# resulting in faster execution since the code is already in a form the computer can directly understand.\n",
        "#  Examples include C, C++, and Go. On the other hand, interpreted languages are executed line-by-line by an interpreter at runtime,\n",
        "#  which can make them slower but allows for easier debugging and flexibility.\n",
        "#  Languages like Python, JavaScript, and Ruby fall into this category.\n",
        "#  Some languages, such as Java and Python, use a combination of both approaches by compiling code to an intermediate form (like bytecode) and then interpreting it during execution."
      ],
      "metadata": {
        "id": "mMYC3lA0cKWJ"
      },
      "execution_count": null,
      "outputs": []
    },
    {
      "cell_type": "code",
      "source": [
        "# 2. What is exception handling in Python?\n",
        "# Answers:\n",
        "\n",
        "# **Exception handling in Python** is a mechanism that allows you to gracefully manage and respond to **errors** or **unexpected situations** that occur while your program is running.\n",
        "# Instead of crashing the program, Python lets you use `try`, `except`, `else`, and `finally` blocks to catch and handle these exceptions. The `try` block contains the code that might cause an error.\n",
        "# If an error occurs, the flow jumps to the `except` block where you can define how to handle the exception (like logging an error or showing a friendly message).\n",
        "# Optionally, you can use an `else` block to run code if no exception occurs, and a `finally` block to run cleanup code (like closing a file), regardless of whether an exception happened or not.\n",
        "# This approach makes programs more **robust**, **user-friendly**, and **easier to debug**."
      ],
      "metadata": {
        "id": "4g1e00y4cKds"
      },
      "execution_count": null,
      "outputs": []
    },
    {
      "cell_type": "code",
      "source": [
        "# 3. What is the purpose of the finally block in exception handling?\n",
        "# Answers:\n",
        "\n",
        "The purpose of the finally block in exception handling is to define code that always runs, regardless of whether an exception occurred or not.\n",
        "This makes it ideal for performing cleanup tasks that should be executed after the try block, such as:\n",
        "1.Closing files\n",
        "2. Releasing resources (like network connections or database connections)\n",
        "3. Performing any other necessary finalization steps\n",
        "\n",
        "try:\n",
        "    file = open(\"example.txt\", \"r\")\n",
        "    content = file.read()\n",
        "    print(content)\n",
        "except FileNotFoundError:\n",
        "    print(\"File not found.\")\n",
        "finally:\n",
        "    # Always executed to ensure the file is closed\n",
        "    file.close()\n",
        "    print(\"File is closed.\")\n"
      ],
      "metadata": {
        "id": "ktxISzIwcKnI"
      },
      "execution_count": null,
      "outputs": []
    },
    {
      "cell_type": "code",
      "source": [
        "# 4. What is logging in Python?\n",
        "# Answers:\n",
        "# Logging in Python is a way to track what's happening in your program while it's running.\n",
        "# It's like leaving a trail of notes or messages so that you can see what's going on, especially when something goes wrong.\n",
        "\n",
        "# For example, if your program crashes or doesn't work as expected, you can use logging to record important information, like error messages or key events.\n",
        "# This helps you find out what happened and fix the issue. You can also use different log levels (like INFO, WARNING, ERROR) to categorize your messages.\n",
        "\n",
        "import logging\n",
        "\n",
        "# Set up logging to a file\n",
        "logging.basicConfig(filename='myapp.log', level=logging.INFO)\n",
        "\n",
        "# Log different types of messages\n",
        "logging.info(\"Program started\")\n",
        "logging.warning(\"This is a warning message\")\n",
        "logging.error(\"An error occurred\")\n"
      ],
      "metadata": {
        "id": "KsTBUTlHcKug"
      },
      "execution_count": null,
      "outputs": []
    },
    {
      "cell_type": "code",
      "source": [
        "# 5. What is the significance of the __del__ method in Python?\n",
        "# Answers:\n",
        "# The __del__ method in Python is a special method known as a destructor.\n",
        "# It is called automatically when an object is about to be destroyed—typically when there are no more references to it.\n",
        "# The main purpose of __del__ is to perform cleanup tasks, like closing files, releasing resources, or saving data before the object is removed from memory.\n",
        "# __del__ is similar to a destructor in other programming languages.\n",
        "\n",
        "# It’s automatically called by Python's garbage collector.\n",
        "\n",
        "# You don’t usually need it unless you're managing external resources (like files or network connections).\n",
        "\n",
        "class MyClass:\n",
        "    def __init__(self):\n",
        "        print(\"Object created\")\n",
        "\n",
        "    def __del__(self):\n",
        "        print(\"Object destroyed, cleaning up...\")\n",
        "\n",
        "obj = MyClass()\n",
        "del obj  # Manually deleting the object\n"
      ],
      "metadata": {
        "id": "IWMPdxVZcLQM"
      },
      "execution_count": null,
      "outputs": []
    },
    {
      "cell_type": "code",
      "source": [
        "#6. What is the difference between import and from ... import in Python?\n",
        "# Answers:\n",
        "# In Python, both `import` and `from ... import` are used to bring in external modules, but they differ in how they are used.\n",
        "# When you use `import module`, it imports the entire module, and you must prefix any function or variable you use with the module name (e.g., `math.sqrt(16)`).\n",
        "# This helps keep your code organized and avoids name conflicts.\n",
        "# On the other hand, `from module import name` allows you to import specific parts of a module, such as a single function or class, so you can use it directly without the module prefix (e.g., `sqrt(16)`).\n",
        "# This makes the code cleaner and shorter, especially if you only need a few things from a module. However, it can lead to name clashes if you're not careful.\n",
        "# In general, `import` is better for clarity, while `from ... import` is useful for convenience when working with a few elements from a module."
      ],
      "metadata": {
        "id": "j0qjy-GZcLVr"
      },
      "execution_count": null,
      "outputs": []
    },
    {
      "cell_type": "code",
      "source": [
        "# 7. How can you handle multiple exceptions in Python?\n",
        "# Answers:\n",
        "# we can handle multiple exceptions by using either separate except blocks or combining them in a single block.\n",
        "# Using multiple except blocks allows you to handle different exceptions with different responses.\n",
        "# For example, in the code below, a ValueError is caught if the user enters non-numeric input, and a ZeroDivisionError is caught if the user tries to divide by zero:\n",
        "try:\n",
        "    num = int(input(\"Enter a number: \"))\n",
        "    result = 10 / num\n",
        "except ValueError:\n",
        "    print(\"Invalid input! Please enter a number.\")\n",
        "except ZeroDivisionError:\n",
        "    print(\"You can't divide by zero.\")\n",
        "\n",
        "# Alternatively, if you want to handle different exceptions the same way, you can group them in a single except block using parentheses:\n",
        "try:\n",
        "    num = int(input(\"Enter a number: \"))\n",
        "    result = 10 / num\n",
        "except (ValueError, ZeroDivisionError) as e:\n",
        "    print(f\"An error occurred: {e}\")\n",
        "\n"
      ],
      "metadata": {
        "id": "xzlUo8wIcLbY"
      },
      "execution_count": null,
      "outputs": []
    },
    {
      "cell_type": "code",
      "source": [
        "# 8.What is the purpose of the with statement when handling files in Python?\n",
        "# Answers:\n",
        "# The purpose of the with statement in Python when handling files is to manage resources automatically, especially for tasks like opening and closing files.\n",
        "# When you open a file using with, Python takes care of closing the file for you, even if an error occurs during reading or writing.\n",
        "# This makes your code cleaner, safer, and less error-prone because you don’t need to remember to call file.close() manually.\n",
        "with open(\"example.txt\", \"r\") as file:\n",
        "    content = file.read()\n",
        "    print(content)\n",
        "\n"
      ],
      "metadata": {
        "id": "KehLLmAacLf_"
      },
      "execution_count": null,
      "outputs": []
    },
    {
      "cell_type": "code",
      "source": [
        "# 9.  What is the difference between multithreading and multiprocessing?\n",
        "# Answers:\n",
        "\n",
        "# Multithreading and multiprocessing are both techniques used in Python to perform multiple tasks concurrently, but they differ in how they operate.\n",
        "# Multithreading** involves running multiple threads within a single process that share the same memory space.\n",
        "# It's useful for I/O-bound tasks such as reading files or making network requests, where one thread can run while another waits.\n",
        "# However, due to Python’s Global Interpreter Lock (GIL), multithreading doesn’t provide true parallelism for CPU-heavy tasks.\n",
        "# On the other hand, **multiprocessing** involves running multiple separate processes, each with its own memory, allowing them to execute truly in parallel.\n",
        "# This makes it ideal for CPU-bound tasks like data crunching or image processing. While multiprocessing offers better performance for such tasks,\n",
        "# also consumes more memory and has more complex communication between processes.\n",
        "# In summary, multithreading is better for I/O-bound operations, while multiprocessing is more suitable for CPU-bound tasks."
      ],
      "metadata": {
        "id": "jFrmPA0McLj5"
      },
      "execution_count": null,
      "outputs": []
    },
    {
      "cell_type": "code",
      "source": [
        "#10.  What are the advantages of using logging in a program?\n",
        "# Answers:\n",
        "\n",
        "# Using **logging** in a program offers several important advantages that help in both development and maintenance.\n",
        "# One of the biggest benefits is that logging allows you to **track the behavior and flow of your program** without interrupting it, unlike `print` statements.\n",
        "# Logs can help you identify **bugs, errors, and performance issues** by recording when and where they happen.\n",
        "# You can also use different **log levels** (like `DEBUG`, `INFO`, `WARNING`, `ERROR`, and `CRITICAL`) to categorize messages based on their severity or importance,\n",
        "# making it easier to filter and analyze them later. Additionally, logs can be written to files, which is especially helpful in long-running applications or systems where you can’t monitor the output in real time.\n",
        "# Logging also helps with **auditing**, **monitoring**, and **debugging** in production environments.\n",
        "# Overall, it makes your code more **professional, maintainable, and easier to troubleshoot**, especially in complex or large-scale applications."
      ],
      "metadata": {
        "id": "OgsArAKYcLnh"
      },
      "execution_count": null,
      "outputs": []
    },
    {
      "cell_type": "code",
      "source": [
        "# 11. What is memory management in Python?\n",
        "# ANswers:\n",
        "# Memory management in Python** refers to how Python handles the **allocation and release of memory** for storing data and objects during a program’s execution.\n",
        "# Python manages memory automatically using a built-in **garbage collector, which detects and removes objects that are no longer in use to free up space.\n",
        "# This helps prevent memory leaks and ensures that memory is used efficiently.\n",
        "# Python also uses **reference counting**, where each object keeps track of how many references point to it. When an object’s reference count drops to zero,\n",
        "# it means nothing is using it, so it can be safely deleted. Additionally, Python has a system called **heap memory\n",
        "# where all objects and data structures are stored, and this memory is managed by the Python memory manager.\n",
        "# To further improve performance and efficiency, Python uses techniques like object pooling** and **private heaps\n",
        "# Overall, memory management in Python is designed to be automatic and developer-friendly,\n",
        "# allowing programmers to focus more on coding rather than worrying about allocating and freeing memory manually."
      ],
      "metadata": {
        "id": "VG6VsY-liF9n"
      },
      "execution_count": null,
      "outputs": []
    },
    {
      "cell_type": "code",
      "source": [
        "# 12. What are the basic steps involved in exception handling in Python?\n",
        "# Answers:\n",
        "'''In Python, exception handling involves several basic steps to manage errors in a controlled way.\n",
        "First, you write code that might raise an exception inside a `try` block. If an error occurs, Python moves to the corresponding `except` block,\n",
        "where you handle the specific type of exception (like `ZeroDivisionError` or `ValueError`).\n",
        "Optionally, you can include an `else` block, which will execute only if no exceptions are raised in the `try` block.\n",
        "Finally, the `finally` block is always executed, regardless of whether an exception occurred, and is typically used for cleanup tasks such as closing files or releasing resources.\n",
        "These steps ensure that your program can handle errors gracefully without crashing and that necessary resources are properly cleaned up.'''"
      ],
      "metadata": {
        "id": "ydHNMyUgiG0F"
      },
      "execution_count": null,
      "outputs": []
    },
    {
      "cell_type": "code",
      "source": [
        "#13.Why is memory management important in Python?\n",
        "# Answers:\n",
        "# Memory management is crucial in Python because it ensures that the program runs efficiently by properly allocating, using, and releasing memory resources.\n",
        "# Proper memory management helps in preventing **memory leaks**, where memory is allocated but never released, leading to excessive memory usage and eventually causing the program or system to crash.\n",
        "# It also helps in optimizing the program’s performance by ensuring that memory is used efficiently.\n",
        "# Python uses automatic memory management through reference counting and garbage collection.\n",
        "# which tracks objects and frees up memory when they are no longer needed. This reduces the burden on developers to manually manage memory.\n",
        "# However, understanding how memory is managed can help developers write more optimized and efficient code, especially in large or long-running applications.\n",
        "# Without proper memory management, a program can consume excessive resources, leading to slow performance, crashes, or inefficient use of system resources."
      ],
      "metadata": {
        "id": "Y-zDHFV6iHlW"
      },
      "execution_count": null,
      "outputs": []
    },
    {
      "cell_type": "code",
      "source": [
        "# 14. What is the role of try and except in exception handling?\n",
        "# ANswers:\n",
        "\n",
        "\n",
        "# In Python, the **`try`** and **`except`** blocks are essential for exception handling.\n",
        "# The **`try`** block contains the code that may raise an exception, allowing Python to attempt its execution.\n",
        "# If an error occurs during the execution of the `try` block, the program will immediately jump to the **`except`** block, where you can handle the exception in a controlled way.\n",
        "# This prevents the program from crashing unexpectedly. The **`except`** block allows you to provide specific error messages, log the issue, or implement fallback solutions,\n",
        "# depending on the type of exception raised.\n",
        "# Together, the `try` and `except` blocks help manage errors gracefully, ensuring that your program continues to run smoothly even when unexpected issues arise."
      ],
      "metadata": {
        "id": "Q_5EIB_YiH0M"
      },
      "execution_count": null,
      "outputs": []
    },
    {
      "cell_type": "code",
      "source": [
        "#15. How does Python's garbage collection system work?\n",
        "# Answers:\n",
        "# Python’s garbage collection system automatically manages memory by reclaiming space that is no longer in use, helping prevent memory leaks and improving performance.\n",
        "# The system works primarily through **reference counting**, where Python keeps track of how many references point to each object.\n",
        "# When an object's reference count drops to zero, meaning no part of the program is using it, the memory is freed.\n",
        "# However, reference counting alone cannot handle **circular references**—situations where objects reference each other in a cycle but are no longer needed.\n",
        "# To address this, Python also uses **cyclic garbage collection**, which detects and cleans up such cycles. The garbage collector runs automatically in the background, but can be controlled or tuned using Python’s `gc` module.\n",
        "# This system ensures that memory is efficiently managed without requiring developers to manually free memory, making Python both memory-efficient and developer-friendly."
      ],
      "metadata": {
        "id": "yiOM7_WxiH5R"
      },
      "execution_count": null,
      "outputs": []
    },
    {
      "cell_type": "code",
      "source": [
        "#16. What is the purpose of the else block in exception handling\n",
        "# Answers:\n",
        "# The **`else`** block in Python’s exception handling is used to define code that should only run if no exceptions are raised in the **`try`** block.\n",
        "# It allows for better separation between the normal execution flow and error-handling code. If the code in the `try` block executes successfully without encountering any errors,\n",
        "# the `else` block will be executed next. This makes it useful for placing code that should only run when no exceptions have occurred,\n",
        "# improving the clarity and readability of the program.\n",
        "# For example, after attempting to perform some operations in the `try` block.\n",
        "# The `else` block can be used to display results or execute tasks that should only occur when the operations were successful.\n",
        "# If an exception occurs, the `else` block is skipped, and the appropriate `except` block handles the error."
      ],
      "metadata": {
        "id": "20UA9s5jiH9Q"
      },
      "execution_count": null,
      "outputs": []
    },
    {
      "cell_type": "code",
      "source": [
        "#17. What are the common logging levels in Python?\n",
        "\n",
        "# Answers:\n",
        "\n",
        "# These levels are:\n",
        "\n",
        "# DEBUG: The lowest level, used for detailed diagnostic information. It is typically used to track the program’s flow and help debug issues.\n",
        "\n",
        "# INFO: Used to indicate general information about the program’s execution, such as progress or important milestones. These messages are useful for tracking normal operations.\n",
        "\n",
        "# WARNING: Indicates that something unexpected occurred, but it does not necessarily cause the program to stop. It suggests a potential issue that should be monitored.\n",
        "\n",
        "# ERROR: Represents a more serious problem that prevents a function or operation from completing as expected. These messages are typically used to report failures in the program.\n",
        "\n",
        "# CRITICAL: The highest level, used for severe issues that could cause the program to stop or result in significant problems. Critical messages indicate system-wide failures.\n"
      ],
      "metadata": {
        "id": "JcugoRiriIA6"
      },
      "execution_count": null,
      "outputs": []
    },
    {
      "cell_type": "code",
      "source": [
        "#18.What is the difference between os.fork() and multiprocessing in Python?\n",
        "# Answers:\n",
        "\n",
        "# The difference between **`os.fork()`** and **`multiprocessing`** in Python lies in how they create and manage processes and their platform support.\n",
        "# **`os.fork()`** is a low-level system call available on Unix-based systems that creates a child process by duplicating the parent process.\n",
        "# It returns `0` in the child process and the child’s process ID in the parent, but it’s not available on Windows. It also copies the memory of the parent process,\n",
        "# which can be inefficient, and requires manual management of inter-process communication and synchronization. On the other hand,\n",
        "# **`multiprocessing`** is a high-level, cross-platform module that abstracts away the complexity of process creation and management,\n",
        "# making it easier to work with processes on both Unix and Windows.\n",
        "# It creates separate memory spaces for each process and provides tools for inter-process communication (like queues and pipes) and synchronization (using locks and events).\n",
        "# Overall, while **`os.fork()`** offers more control, **`multiprocessing`** is a more user-friendly and efficient way to handle parallelism and process management across platforms."
      ],
      "metadata": {
        "id": "XRlHUmE6iIEf"
      },
      "execution_count": null,
      "outputs": []
    },
    {
      "cell_type": "code",
      "source": [
        "# 19.What is the importance of closing a file in Python?\n",
        "# Answers:\n",
        "# Closing a file in Python is crucial for releasing system resources, ensuring data integrity, and preventing potential issues like data corruption.\n",
        "# When a file is opened, the operating system allocates resources such as file handles or buffers to manage it. If the file is not closed, these resources remain allocated,\n",
        "# which can cause resource leaks, especially in programs that open many files.\n",
        "# Additionally, when files are opened in write or append mode, closing the file ensures that any changes made are saved to the disk, as data is often buffered in memory until the file is closed.\n",
        "# Failing to close a file can also lead to data corruption, particularly if the file is being accessed by other processes.\n",
        "# Using a context manager (with statement) is a good practice because it automatically handles file closing, even if an error occurs.\n",
        "\n",
        "with open('example.txt', 'w') as file:\n",
        "    file.write(\"Hello, world!\")\n",
        "# The file is automatically closed when the 'with' block ends.\n"
      ],
      "metadata": {
        "id": "yvNgsYKSiIHO"
      },
      "execution_count": null,
      "outputs": []
    },
    {
      "cell_type": "code",
      "source": [
        "#20. What is the difference between file.read() and file.readline() in Python?\n",
        "\n",
        "# Answers:\n",
        "\n",
        "# file.read() and file.readline() are both used to read file contents, but they operate differently. file.read() reads the entire content of the file at once and returns it as a single string.\n",
        "# This method is useful for smaller files that can easily fit into memory, but it can be inefficient for large files since it loads everything at once. For example:\n",
        "\n",
        "with open('example.txt', 'r') as file:\n",
        "    content = file.read()\n",
        "    print(content)  # Prints the entire file content\n",
        "\n",
        "\n",
        "# file.readline() reads one line at a time, returning the line as a string, including the newline character (\\n).\n",
        "# This method is more memory-efficient for larger files because it processes the file one line at a time. Here's an example:\n",
        "\n",
        "with open('example.txt', 'r') as file:\n",
        "    line = file.readline()\n",
        "    print(line)  # Prints the first line of the file\n"
      ],
      "metadata": {
        "id": "vVseg4VTiIKL"
      },
      "execution_count": null,
      "outputs": []
    },
    {
      "cell_type": "code",
      "source": [
        "# 21. What is the logging module in Python used for?\n",
        "\n",
        "#Answers:\n",
        "\n",
        "# The logging module in Python is used to record and manage logs for a program, which helps in tracking its execution, identifying issues, and debugging.\n",
        "# It provides a flexible framework for logging messages of different severity levels, such as DEBUG, INFO, WARNING, ERROR, and CRITICAL.\n",
        "# This allows developers to monitor the behavior of an application, track errors, and analyze performance without interrupting the program's execution.\n",
        "\n",
        "# The logging module allows for logs to be directed to different outputs, such as the console, files, or remote servers, and supports features like log rotation, timestamping, and filtering logs based on severity levels.\n",
        "# For example, instead of using print statements for debugging, the logging module enables developers to capture debug information at different levels of detail, making it easier to identify the root causes of issues.\n",
        "\n",
        "\n",
        "import logging\n",
        "\n",
        "# Basic logging setup\n",
        "logging.basicConfig(level=logging.DEBUG)\n",
        "\n",
        "logging.debug(\"This is a debug message.\")\n",
        "logging.info(\"This is an info message.\")\n",
        "logging.warning(\"This is a warning message.\")\n",
        "logging.error(\"This is an error message.\")\n",
        "logging.critical(\"This is a critical message.\")\n"
      ],
      "metadata": {
        "id": "2sMXjnSYiIMk"
      },
      "execution_count": null,
      "outputs": []
    },
    {
      "cell_type": "code",
      "source": [
        "# 22. What is the os module in Python used for in file handling?\n",
        "# Answers:\n",
        "# The **`os`** module in Python provides a set of functions for interacting with the operating system and performing various file-handling operations.\n",
        "# It allows developers to manage files and directories by providing tools for creating directories (`os.mkdir()`),\n",
        "# checking if a file or directory exists (`os.path.exists()`), renaming or moving files (`os.rename()`), and deleting files or directories (`os.remove()` and `os.rmdir()`).\n",
        "# Additionally, it enables listing the contents of directories (`os.listdir()`), retrieving file information such as size (`os.path.getsize()`), and manipulating file paths.\n",
        "# This makes the **`os`** module an essential tool for managing the file system in Python, offering both simple and advanced functionalities for effective file management.\n",
        "# For example, you can easily check if a file exists before performing an operation or delete a file after it's no longer needed, improving the efficiency and organization of your code."
      ],
      "metadata": {
        "id": "72vBvT1niIPE"
      },
      "execution_count": null,
      "outputs": []
    },
    {
      "cell_type": "code",
      "source": [
        "# 23. What are the challenges associated with memory management in Python?\n",
        "# Answers:\n",
        "\n",
        "# Memory management in Python presents several challenges due to the language's automatic garbage collection and dynamic memory allocation system.\n",
        "# While Python's garbage collector reclaims memory from unused objects, it can be difficult to predict when memory will be freed, leading to temporary memory bloat or inefficiencies.\n",
        "# Circular references can also hinder the garbage collector's ability to detect unused objects, potentially causing memory leaks.\n",
        "# Memory fragmentation can occur as small chunks of unused memory accumulate over time, leading to inefficiencies.\n",
        "# Additionally, large data structures like lists, dictionaries, and NumPy arrays can consume significant memory, which, if not carefully managed, can cause applications to slow down or crash.\n",
        "# Tracking object references is also a challenge, as improper reference management can result in objects staying in memory longer than needed, leading to memory leaks.\n",
        "# In constrained environments, Python's high-level memory management may become a bottleneck.\n",
        "# Developers can address these issues using tools like memory profiling, manual deletion of objects, and optimized libraries such as NumPy to reduce memory consumption and improve efficiency."
      ],
      "metadata": {
        "id": "2SwwHGoaiIRa"
      },
      "execution_count": null,
      "outputs": []
    },
    {
      "cell_type": "code",
      "source": [
        "# 24. How do you raise an exception manually in Python?\n",
        "# Answers:\n",
        "# In Python, you can raise an exception manually using the **`raise`** keyword.\n",
        "# This allows you to trigger an exception intentionally when a specific condition or error arises, enabling you to handle it gracefully.\n",
        "# You can raise built-in exceptions such as **`ZeroDivisionError`**, **`ValueError`**, or **`TypeError`**, or even create custom exceptions by defining a class that inherits from Python's base **`Exception`** class.\n",
        "# For instance, if a function encounters an error, like dividing by zero, you can raise a **`ZeroDivisionError`** to indicate the issue, which can then be caught and managed in a `try-except` block.\n",
        "# Additionally, custom exceptions can be created to handle specific error cases relevant to your application. This approach helps in making your code more readable and maintainable by clearly signaling when something goes wrong.\n",
        "# For example, a custom exception could be raised if a negative number is provided when a non-negative value is expected, as shown by a custom exception class inheriting from **`Exception`**."
      ],
      "metadata": {
        "id": "nrdMYuqQpI7s"
      },
      "execution_count": null,
      "outputs": []
    },
    {
      "cell_type": "code",
      "source": [
        "# 25. Why is it important to use multithreading in certain application?\n",
        "\n",
        "\n",
        "# Answers:\n",
        "\n",
        "# Multithreading is important in certain applications because it allows multiple tasks to be executed concurrently, improving performance and responsiveness.\n",
        "# This is particularly useful for **I/O-bound** operations, such as reading from or writing to a file, making network requests, or interacting with databases.\n",
        "# For example, while one thread is waiting for a response from a server, another thread can continue processing other tasks, ensuring the application remains responsive.\n",
        "# Additionally, multithreading is beneficial for **real-time applications** like chat applications, web servers, and interactive user interfaces,\n",
        "# where delays in processing can disrupt user experience.\n",
        "# In CPU-bound tasks, such as heavy computations, multithreading can be useful, though Python's Global Interpreter Lock (GIL) can limit true parallel execution.\n",
        "# However, it is still valuable for managing multiple concurrent I/O operations.\n",
        "# By allowing different parts of an application to run simultaneously, multithreading can reduce latency, improve efficiency, and ensure smoother operations.\n",
        "# Overall, it enhances an application's ability to handle tasks concurrently, providing better performance and responsiveness in specific use cases."
      ],
      "metadata": {
        "id": "kHydtlacpJF_"
      },
      "execution_count": null,
      "outputs": []
    }
  ]
}